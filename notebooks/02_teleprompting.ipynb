{
  "cells": [
    {
      "cell_type": "markdown",
      "metadata": {},
      "source": [
        "# Advanced DSPy Features: Teleprompting and Bootstrapping\n",
        "\n",
        "This notebook demonstrates DSPy's advanced features:\n",
        "1. Basic classification with Chain-of-Thought\n",
        "2. Bootstrapped few-shot learning\n",
        "3. Adaptive teleprompting\n",
        "4. Performance comparison"
      ]
    },
    {
      "cell_type": "code",
      "execution_count": null,
      "metadata": {},
      "outputs": [],
      "source": [
        "import sys\n",
        "sys.path.append('../')\n",
        "\n",
        "from src.config import setup_dspy\n",
        "from src.teleprompter_example import (\n",
        "    Classifier, \n",
        "    BootstrappedClassifier,\n",
        "    AdaptiveTelepromptModule,\n",
        "    create_training_data\n",
        ")\n",
        "\n",
        "# Setup DSPy\n",
        "lm = setup_dspy()"
      ]
    },
    {
      "cell_type": "markdown",
      "metadata": {},
      "source": [
        "## 1. Basic Classification\n",
        "Let's start with a simple sentiment classifier"
      ]
    },
    {
      "cell_type": "code",
      "execution_count": null,
      "metadata": {},
      "outputs": [],
      "source": [
        "classifier = Classifier()\n",
        "\n",
        "# Test with different examples\n",
        "texts = [\n",
        "    \"This product exceeded my expectations!\",\n",
        "    \"I regret making this purchase.\",\n",
        "    \"It works as advertised, nothing more.\"\n",
        "]\n",
        "\n",
        "for text in texts:\n",
        "    result = classifier(text)\n",
        "    print(f\"Text: {text}\")\n",
        "    print(f\"Label: {result['label']}\")\n",
        "    print(f\"Confidence: {result['confidence']:.2f}\")\n",
        "    print(f\"Reasoning: {result['reasoning']}\\n\")"
      ]
    },
    {
      "cell_type": "markdown",
      "metadata": {},
      "source": [
        "## 2. Bootstrapped Classification\n",
        "Now let's use bootstrapped few-shot learning to improve performance"
      ]
    },
    {
      "cell_type": "code",
      "execution_count": null,
      "metadata": {},
      "outputs": [],
      "source": [
        "# Create and compile bootstrapped classifier\n",
        "boot_classifier = BootstrappedClassifier(num_bootstrap_examples=3)\n",
        "training_data = create_training_data()\n",
        "boot_classifier.compile_with_examples(training_data)\n",
        "\n",
        "# Test with the same examples\n",
        "for text in texts:\n",
        "    result = boot_classifier(text)\n",
        "    print(f\"Text: {text}\")\n",
        "    print(f\"Label: {result['label']}\")\n",
        "    print(f\"Confidence: {result['confidence']:.2f}\")\n",
        "    print(f\"Complexity: {result['complexity']:.2f}\\n\")"
      ]
    },
    {
      "cell_type": "markdown",
      "metadata": {},
      "source": [
        "## 3. Adaptive Teleprompting\n",
        "This example shows how to adapt prompting strategy based on input"
      ]
    },
    {
      "cell_type": "code",
      "execution_count": null,
      "metadata": {},
      "outputs": [],
      "source": [
        "adaptive = AdaptiveTelepromptModule()\n",
        "\n",
        "# Test with different complexity levels\n",
        "inputs = [\n",
        "    \"The weather is nice today.\",  # Simple\n",
        "    \"The economic impact of AI on job markets is complex and multifaceted.\",  # Complex\n",
        "    \"This restaurant's service quality has been inconsistent lately.\"  # Moderate\n",
        "]\n",
        "\n",
        "for text in inputs:\n",
        "    result = adaptive(text)\n",
        "    print(f\"Input: {text}\")\n",
        "    print(f\"Output: {result['output']}\")\n",
        "    print(f\"Confidence: {result['confidence']:.2f}\")\n",
        "    print(f\"Approach: {result['approach']}\\n\")"
      ]
    },
    {
      "cell_type": "markdown",
      "metadata": {},
      "source": [
        "## 4. Learning from Feedback\n",
        "Let's see how the adaptive module learns from feedback"
      ]
    },
    {
      "cell_type": "code",
      "execution_count": null,
      "metadata": {},
      "outputs": [],
      "source": [
        "# Process with feedback\n",
        "text = \"The new policy changes will affect our department.\"\n",
        "actual = \"The policy changes will lead to restructuring and new procedures in the department.\"\n",
        "\n",
        "print(\"First attempt:\")\n",
        "result1 = adaptive(text)\n",
        "print(f\"Output: {result1['output']}\\n\")\n",
        "\n",
        "print(\"With feedback:\")\n",
        "result2 = adaptive(text, actual=actual)\n",
        "print(f\"Output: {result2['output']}\")\n",
        "print(f\"Confidence: {result2['confidence']:.2f}\")\n",
        "print(f\"Approach: {result2['approach']}\")"
      ]
    }
  ],
  "metadata": {
    "language_info": {
      "name": "python"
    }
  },
  "nbformat": 4,
  "nbformat_minor": 2
}
