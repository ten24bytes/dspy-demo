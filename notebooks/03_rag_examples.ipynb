{
 "cells": [
  {
   "cell_type": "markdown",
   "metadata": {},
   "source": [
    "# RAG (Retrieval-Augmented Generation) Examples with DSPy\n",
    "\n",
    "This notebook demonstrates different RAG patterns implemented using DSPy:\n",
    "1. Basic RAG with single-hop retrieval\n",
    "2. Multi-hop RAG for complex queries\n",
    "3. Self-correcting RAG with verification\n",
    "4. Progressive RAG with query refinement"
   ]
  },
  {
   "cell_type": "code",
   "execution_count": null,
   "metadata": {},
   "outputs": [],
   "source": [
    "import sys\n",
    "sys.path.append('../')\n",
    "\n",
    "from src.config import setup_dspy, setup_retriever\n",
    "from src.basic_qa import RAGBasedQA\n",
    "from src.advanced_rag import MultiHopRetriever, SelfCorrectingRAG, ProgressiveRAG\n",
    "\n",
    "# Setup DSPy and retriever\n",
    "lm = setup_dspy()\n",
    "retriever = setup_retriever()"
   ]
  },
  {
   "cell_type": "markdown",
   "metadata": {},
   "source": [
    "## 1. Basic RAG Example\n",
    "Let's start with a simple RAG-based QA system"
   ]
  },
  {
   "cell_type": "code",
   "execution_count": null,
   "metadata": {},
   "outputs": [],
   "source": [
    "basic_rag = RAGBasedQA(retriever)\n",
    "\n",
    "question = \"What are the main components of a RAG system?\"\n",
    "answer = basic_rag(question)\n",
    "print(f\"Question: {question}\\nAnswer: {answer}\")"
   ]
  },
  {
   "cell_type": "markdown",
   "metadata": {},
   "source": [
    "## 2. Multi-hop RAG\n",
    "Now let's try a more complex query that requires multiple retrieval steps"
   ]
  },
  {
   "cell_type": "code",
   "execution_count": null,
   "metadata": {},
   "outputs": [],
   "source": [
    "multihop = MultiHopRetriever()\n",
    "\n",
    "complex_question = \"What are the environmental impacts of electric cars, particularly regarding battery production and disposal?\"\n",
    "result = multihop(complex_question)\n",
    "\n",
    "print(f\"Question: {complex_question}\")\n",
    "print(f\"Answer: {result['answer']}\")\n",
    "print(f\"Number of contexts used: {len(result['contexts'])}\")"
   ]
  },
  {
   "cell_type": "markdown",
   "metadata": {},
   "source": [
    "## 3. Self-correcting RAG\n",
    "This example shows how RAG can verify and correct its own outputs"
   ]
  },
  {
   "cell_type": "code",
   "execution_count": null,
   "metadata": {},
   "outputs": [],
   "source": [
    "correcting_rag = SelfCorrectingRAG()\n",
    "\n",
    "question = \"Explain the theory of relativity and its key principles\"\n",
    "result = correcting_rag(question)\n",
    "\n",
    "print(f\"Question: {question}\")\n",
    "print(f\"Answer: {result['answer']}\")\n",
    "print(f\"Confidence: {result['confidence']}\")\n",
    "print(f\"Attempts needed: {result['attempts']}\")\n",
    "print(f\"Reasoning: {result['reasoning']}\")"
   ]
  },
  {
   "cell_type": "markdown",
   "metadata": {},
   "source": [
    "## 4. Progressive RAG\n",
    "This example demonstrates how to progressively refine queries for better results"
   ]
  },
  {
   "cell_type": "code",
   "execution_count": null,
   "metadata": {},
   "outputs": [],
   "source": [
    "progressive_rag = ProgressiveRAG()\n",
    "\n",
    "question = \"What are the implications of quantum computing on current encryption methods?\"\n",
    "result = progressive_rag(question)\n",
    "\n",
    "print(f\"Question: {question}\")\n",
    "print(f\"Final Answer: {result['answer']}\")\n",
    "print(\"\\nQuery Evolution:\")\n",
    "for i, query in enumerate(result['queries_used']):\n",
    "    print(f\"Step {i+1}: {query}\")\n",
    "print(f\"\\nTotal contexts used: {result['context_count']}\")"
   ]
  },
  {
   "cell_type": "markdown",
   "metadata": {},
   "source": [
    "# DSPy RAG (Retrieval Augmented Generation) Examples\n",
    "\n",
    "This notebook demonstrates various RAG implementations using DSPy:\n",
    "1. Basic RAG with single passage retrieval\n",
    "2. Multi-hop RAG reasoning\n",
    "3. Self-correcting RAG with fact verification"
   ]
  },
  {
   "cell_type": "code",
   "execution_count": null,
   "metadata": {},
   "outputs": [],
   "source": [
    "import sys\n",
    "sys.path.append('../')\n",
    "\n",
    "import dspy\n",
    "from src.config import setup_dspy, setup_retriever\n",
    "\n",
    "# Setup DSPy and retriever\n",
    "lm = setup_dspy()\n",
    "retriever = setup_retriever()"
   ]
  },
  {
   "cell_type": "markdown",
   "metadata": {},
   "source": [
    "## Multi-hop RAG Example\n",
    "This example shows how to chain multiple retrievals for complex queries"
   ]
  },
  {
   "cell_type": "code",
   "execution_count": null,
   "metadata": {},
   "outputs": [],
   "source": [
    "class MultiHopRAG(dspy.Module):\n",
    "    def __init__(self):\n",
    "        super().__init__()\n",
    "        self.generate_subquestions = dspy.ChainOfThought(\"question -> subquestions\")\n",
    "        self.retrieve = dspy.Retrieve(k=2)\n",
    "        self.generate_answer = dspy.ChainOfThought(\"context, question -> answer\")\n",
    "    \n",
    "    def forward(self, question):\n",
    "        # Break down into sub-questions\n",
    "        subq = self.generate_subquestions(question=question)\n",
    "        \n",
    "        # Retrieve context for each sub-question\n",
    "        contexts = []\n",
    "        for q in subq.subquestions.split(';'):\n",
    "            passages = self.retrieve(q).passages\n",
    "            contexts.extend(passages)\n",
    "        \n",
    "        # Generate final answer\n",
    "        response = self.generate_answer(context=contexts, question=question)\n",
    "        return response.answer\n",
    "\n",
    "# Create and test multi-hop RAG\n",
    "multihop_rag = MultiHopRAG()\n",
    "question = \"What are the environmental impacts of electric vehicles, considering both manufacturing and usage?\"\n",
    "answer = multihop_rag(question)\n",
    "print(f\"Q: {question}\\nA: {answer}\")"
   ]
  },
  {
   "cell_type": "markdown",
   "metadata": {},
   "source": [
    "## Self-correcting RAG\n",
    "This example implements a RAG system that verifies its own outputs"
   ]
  },
  {
   "cell_type": "code",
   "execution_count": null,
   "metadata": {},
   "outputs": [],
   "source": [
    "class FactCheckingRAG(dspy.Module):\n",
    "    def __init__(self):\n",
    "        super().__init__()\n",
    "        self.retrieve = dspy.Retrieve(k=3)\n",
    "        self.generate = dspy.ChainOfThought(\"context, question -> answer, reasoning\")\n",
    "        self.verify = dspy.ChainOfThought(\"context, answer, reasoning -> is_verified, corrections\")\n",
    "    \n",
    "    def forward(self, question):\n",
    "        # Initial retrieval and answer generation\n",
    "        passages = self.retrieve(question).passages\n",
    "        initial_response = self.generate(context=passages, question=question)\n",
    "        \n",
    "        # Verify and correct if needed\n",
    "        verification = self.verify(\n",
    "            context=passages,\n",
    "            answer=initial_response.answer,\n",
    "            reasoning=initial_response.reasoning\n",
    "        )\n",
    "        \n",
    "        return {\n",
    "            'final_answer': verification.corrections if not verification.is_verified \n",
    "                          else initial_response.answer,\n",
    "            'verified': verification.is_verified\n",
    "        }\n",
    "\n",
    "# Test the fact-checking RAG\n",
    "fact_checker = FactCheckingRAG()\n",
    "question = \"What are the main causes of climate change?\"\n",
    "result = fact_checker(question)\n",
    "print(f\"Q: {question}\")\n",
    "print(f\"A: {result['final_answer']}\")\n",
    "print(f\"Verified: {result['verified']}\")"
   ]
  }
 ],
 "metadata": {
  "language_info": {
   "name": "python"
  }
 },
 "nbformat": 4,
 "nbformat_minor": 2
}
