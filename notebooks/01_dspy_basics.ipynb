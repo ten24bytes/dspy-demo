{
  "cells": [
    {
      "cell_type": "markdown",
      "metadata": {},
      "source": [
        "# DSPy Basics Tutorial\n",
        "\n",
        "This notebook demonstrates the basic features of DSPy including:\n",
        "1. Setting up DSPy with OpenAI\n",
        "2. Creating basic language model modules\n",
        "3. Working with Chain-of-Thought reasoning"
      ]
    },
    {
      "cell_type": "code",
      "execution_count": null,
      "metadata": {},
      "outputs": [],
      "source": [
        "import sys\n",
        "sys.path.append('../')\n",
        "\n",
        "import dspy\n",
        "from src.config import setup_dspy\n",
        "from src.basic_qa import BasicQA\n",
        "\n",
        "# Initialize DSPy with OpenAI\n",
        "lm = setup_dspy()"
      ]
    },
    {
      "cell_type": "markdown",
      "metadata": {},
      "source": [
        "## Basic Question Answering\n",
        "Let's try a simple question-answering example using DSPy"
      ]
    },
    {
      "cell_type": "code",
      "execution_count": null,
      "metadata": {},
      "outputs": [],
      "source": [
        "# Create a basic QA instance\n",
        "qa = BasicQA()\n",
        "\n",
        "# Try some questions\n",
        "questions = [\n",
        "    \"What is the capital of France?\",\n",
        "    \"Explain how photosynthesis works in simple terms.\"\n",
        "]\n",
        "\n",
        "for question in questions:\n",
        "    print(f\"Q: {question}\")\n",
        "    print(f\"A: {qa(question)}\\n\")"
      ]
    },
    {
      "cell_type": "markdown",
      "metadata": {},
      "source": [
        "## Creating Custom DSPy Modules\n",
        "Let's create a simple module that generates explanations"
      ]
    },
    {
      "cell_type": "code",
      "execution_count": null,
      "metadata": {},
      "outputs": [],
      "source": [
        "class Explainer(dspy.Module):\n",
        "    def __init__(self):\n",
        "        super().__init__()\n",
        "        self.explain = dspy.ChainOfThought(\"concept -> explanation\")\n",
        "    \n",
        "    def forward(self, concept):\n",
        "        response = self.explain(concept=concept)\n",
        "        return response.explanation\n",
        "\n",
        "# Test the explainer\n",
        "explainer = Explainer()\n",
        "concept = \"quantum entanglement\"\n",
        "explanation = explainer(concept)\n",
        "print(f\"Concept: {concept}\\nExplanation: {explanation}\")"
      ]
    },
    {
      "cell_type": "markdown",
      "metadata": {},
      "source": [
        "# DSPy Basics Tutorial\n",
        "\n",
        "This notebook demonstrates the basic features of DSPy."
      ]
    },
    {
      "cell_type": "code",
      "execution_count": null,
      "metadata": {},
      "outputs": [],
      "source": [
        "import sys\n",
        "sys.path.append('../')\n",
        "\n",
        "from src.config import setup_dspy\n",
        "from src.basic_qa import BasicQA, RAGBasedQA\n",
        "\n",
        "# Initialize DSPy with OpenAI\n",
        "lm = setup_dspy()"
      ]
    },
    {
      "cell_type": "markdown",
      "metadata": {},
      "source": [
        "## Basic Question Answering\n",
        "Let's try a simple question-answering example"
      ]
    },
    {
      "cell_type": "code",
      "execution_count": null,
      "metadata": {},
      "outputs": [],
      "source": [
        "qa_model = BasicQA()\n",
        "question = \"What is the capital of France?\"\n",
        "answer = qa_model(question)\n",
        "print(f\"Q: {question}\\nA: {answer}\")"
      ]
    },
    {
      "cell_type": "markdown",
      "metadata": {},
      "source": [
        "## RAG-based Question Answering\n",
        "Now let's try RAG-based QA with retrieved context"
      ]
    },
    {
      "cell_type": "code",
      "execution_count": null,
      "metadata": {},
      "outputs": [],
      "source": [
        "from src.config import setup_retriever\n",
        "\n",
        "retriever = setup_retriever()\n",
        "rag_qa = RAGBasedQA(retriever)\n",
        "\n",
        "question = \"What are the main features of DSPy?\"\n",
        "answer = rag_qa(question)\n",
        "print(f\"Q: {question}\\nA: {answer}\")"
      ]
    }
  ],
  "metadata": {
    "language_info": {
      "name": "python"
    }
  },
  "nbformat": 4,
  "nbformat_minor": 2
}
