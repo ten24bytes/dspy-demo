{
 "cells": [
  {
   "cell_type": "markdown",
   "metadata": {},
   "source": [
    "# Advanced DSPy Patterns\n",
    "\n",
    "This notebook covers advanced DSPy patterns and techniques:\n",
    "1. Bootstrapped few-shot learning\n",
    "2. Self-improving modules\n",
    "3. Optimization techniques\n",
    "4. Custom metrics and evaluation"
   ]
  },
  {
   "cell_type": "code",
   "execution_count": null,
   "metadata": {},
   "outputs": [],
   "source": [
    "import sys\n",
    "sys.path.append('../')\n",
    "\n",
    "from src.config import setup_dspy\n",
    "from src.optimization_patterns import SelfImprovingModule, OptimizedChainOfThought, AdaptivePrompting\n",
    "\n",
    "# Setup DSPy\n",
    "lm = setup_dspy()"
   ]
  },
  {
   "cell_type": "markdown",
   "metadata": {},
   "source": [
    "## 1. Self-improving Module Example\n",
    "This example shows how to create a module that learns from its mistakes"
   ]
  },
  {
   "cell_type": "code",
   "execution_count": null,
   "metadata": {},
   "outputs": [],
   "source": [
    "improver = SelfImprovingModule()\n",
    "\n",
    "# First prediction without learning\n",
    "result1 = improver(\"What causes earthquakes?\", \n",
    "                  actual=\"Earthquakes are primarily caused by tectonic plate movements.\")\n",
    "print(\"Initial prediction:\", result1['prediction'])\n",
    "\n",
    "# Second prediction after learning\n",
    "result2 = improver(\"What causes volcanoes?\", \n",
    "                  actual=\"Volcanoes occur when magma reaches the Earth's surface through weak spots in the crust.\")\n",
    "print(\"\\nImproved prediction:\", result2['prediction'])\n",
    "if 'improvement' in result2:\n",
    "    print(\"Improvement strategy:\", result2['improvement'])"
   ]
  },
  {
   "cell_type": "markdown",
   "metadata": {},
   "source": [
    "## 2. Optimized Chain-of-Thought\n",
    "Demonstrates how to optimize reasoning chains using bootstrapped examples"
   ]
  },
  {
   "cell_type": "code",
   "execution_count": null,
   "metadata": {},
   "outputs": [],
   "source": [
    "# Create example data\n",
    "examples = [\n",
    "    {\"input\": \"What is 25 + 17?\", \"output\": \"42\"},\n",
    "    {\"input\": \"What is 13 × 4?\", \"output\": \"52\"},\n",
    "    {\"input\": \"What is 100 ÷ 5?\", \"output\": \"20\"}\n",
    "]\n",
    "\n",
    "# Create and compile the optimized module\n",
    "cot = OptimizedChainOfThought()\n",
    "cot.compile_with_examples(examples)\n",
    "\n",
    "# Test the optimized module\n",
    "result = cot(\"What is 36 + 44?\")\n",
    "print(f\"Question: What is 36 + 44?\")\n",
    "print(f\"Reasoning: {result['reasoning']}\")\n",
    "print(f\"Answer: {result['conclusion']}\")"
   ]
  },
  {
   "cell_type": "markdown",
   "metadata": {},
   "source": [
    "## 3. Adaptive Prompting\n",
    "Shows how to adapt prompting strategy based on input complexity"
   ]
  },
  {
   "cell_type": "code",
   "execution_count": null,
   "metadata": {},
   "outputs": [],
   "source": [
    "adaptive = AdaptivePrompting()\n",
    "\n",
    "# Test with simple input\n",
    "simple_input = \"What is the capital of France?\"\n",
    "simple_result = adaptive(simple_input)\n",
    "print(f\"Simple input ({simple_result['method']}):\\n{simple_result['output']}\\n\")\n",
    "\n",
    "# Test with complex input\n",
    "complex_input = \"Compare and contrast the economic systems of capitalism and socialism\"\n",
    "complex_result = adaptive(complex_input)\n",
    "print(f\"Complex input ({complex_result['method']}):\\n{complex_result['output']}\")\n",
    "if 'reasoning' in complex_result:\n",
    "    print(f\"\\nReasoning:\\n{complex_result['reasoning']}\")"
   ]
  },
  {
   "cell_type": "markdown",
   "metadata": {},
   "source": [
    "# Advanced DSPy Patterns and Techniques\n",
    "\n",
    "This notebook demonstrates advanced DSPy patterns including:\n",
    "1. Signature chaining\n",
    "2. Dynamic few-shot learning\n",
    "3. Error handling and self-correction\n",
    "4. Prompt optimization"
   ]
  },
  {
   "cell_type": "code",
   "execution_count": null,
   "metadata": {},
   "outputs": [],
   "source": [
    "import sys\n",
    "sys.path.append('../')\n",
    "\n",
    "import dspy\n",
    "from src.config import setup_dspy\n",
    "\n",
    "# Setup DSPy\n",
    "lm = setup_dspy()"
   ]
  },
  {
   "cell_type": "markdown",
   "metadata": {},
   "source": [
    "## Signature Chaining Example\n",
    "This example shows how to chain multiple signatures for complex tasks"
   ]
  },
  {
   "cell_type": "code",
   "execution_count": null,
   "metadata": {},
   "outputs": [],
   "source": [
    "class ComplexReasoningChain(dspy.Module):\n",
    "    def __init__(self):\n",
    "        super().__init__()\n",
    "        self.analyze = dspy.ChainOfThought(\"input -> key_points, implications\")\n",
    "        self.synthesize = dspy.ChainOfThought(\"key_points, implications -> conclusion\")\n",
    "        self.validate = dspy.ChainOfThought(\"conclusion, key_points -> is_valid, reasoning\")\n",
    "    \n",
    "    def forward(self, input_text):\n",
    "        # Step 1: Analysis\n",
    "        analysis = self.analyze(input=input_text)\n",
    "        \n",
    "        # Step 2: Synthesis\n",
    "        synthesis = self.synthesize(\n",
    "            key_points=analysis.key_points,\n",
    "            implications=analysis.implications\n",
    "        )\n",
    "        \n",
    "        # Step 3: Validation\n",
    "        validation = self.validate(\n",
    "            conclusion=synthesis.conclusion,\n",
    "            key_points=analysis.key_points\n",
    "        )\n",
    "        \n",
    "        return {\n",
    "            'conclusion': synthesis.conclusion,\n",
    "            'valid': validation.is_valid,\n",
    "            'reasoning': validation.reasoning\n",
    "        }\n",
    "\n",
    "# Test the complex reasoning chain\n",
    "reasoner = ComplexReasoningChain()\n",
    "input_text = \"AI models are becoming increasingly powerful, but with this power comes concerns about safety and ethics.\"\n",
    "result = reasoner(input_text)\n",
    "print(f\"Input: {input_text}\")\n",
    "print(f\"Conclusion: {result['conclusion']}\")\n",
    "print(f\"Valid: {result['valid']}\")\n",
    "print(f\"Reasoning: {result['reasoning']}\")"
   ]
  },
  {
   "cell_type": "markdown",
   "metadata": {},
   "source": [
    "## Dynamic Few-Shot Learning\n",
    "This example demonstrates how to dynamically generate and use few-shot examples"
   ]
  },
  {
   "cell_type": "code",
   "execution_count": null,
   "metadata": {},
   "outputs": [],
   "source": [
    "class DynamicFewShotLearner(dspy.Module):\n",
    "    def __init__(self):\n",
    "        super().__init__()\n",
    "        self.generate_examples = dspy.ChainOfThought(\"task_description -> examples\")\n",
    "        self.solve = dspy.ChainOfThought(\"examples, new_input -> solution\")\n",
    "    \n",
    "    def forward(self, task_description, new_input):\n",
    "        # Generate relevant examples\n",
    "        examples_gen = self.generate_examples(task_description=task_description)\n",
    "        \n",
    "        # Use examples to solve new input\n",
    "        solution = self.solve(\n",
    "            examples=examples_gen.examples,\n",
    "            new_input=new_input\n",
    "        )\n",
    "        \n",
    "        return solution.solution\n",
    "\n",
    "# Test the dynamic few-shot learner\n",
    "learner = DynamicFewShotLearner()\n",
    "task = \"Convert informal text to formal business language\"\n",
    "input_text = \"Hey, just checking if you got my email about the project?\"\n",
    "result = learner(task, input_text)\n",
    "print(f\"Input: {input_text}\")\n",
    "print(f\"Formal version: {result}\")"
   ]
  },
  {
   "cell_type": "markdown",
   "metadata": {},
   "source": [
    "## Prompt Optimization Example\n",
    "This example shows how to use DSPy's optimization capabilities"
   ]
  },
  {
   "cell_type": "code",
   "execution_count": null,
   "metadata": {},
   "outputs": [],
   "source": [
    "from dspy.teleprompt import BootstrapFewShot\n",
    "\n",
    "class OptimizedModule(dspy.Module):\n",
    "    def __init__(self):\n",
    "        super().__init__()\n",
    "        self.process = dspy.ChainOfThought(\"input -> output\")\n",
    "    \n",
    "    def forward(self, input_text):\n",
    "        result = self.process(input=input_text)\n",
    "        return result.output\n",
    "\n",
    "def create_example_dataset():\n",
    "    examples = [\n",
    "        {\"input\": \"Summarize the benefits of exercise\", \"output\": \"Exercise improves health, mood, and longevity.\"},\n",
    "        {\"input\": \"Explain quantum computing\", \"output\": \"Quantum computing uses quantum mechanics for complex calculations.\"}\n",
    "    ]\n",
    "    return dspy.Example.from_list(examples)\n",
    "\n",
    "# Create and optimize the module\n",
    "module = OptimizedModule()\n",
    "bootstrap = BootstrapFewShot(metric=\"exact_match\")\n",
    "trainset = create_example_dataset()\n",
    "\n",
    "# Compile with optimization\n",
    "optimized_module = bootstrap.compile(\n",
    "    module,\n",
    "    trainset=trainset,\n",
    "    max_bootstrapped_demos=3\n",
    ")\n",
    "\n",
    "# Test the optimized module\n",
    "result = optimized_module(\"Describe machine learning\")\n",
    "print(f\"Result: {result}\")"
   ]
  }
 ],
 "metadata": {
  "language_info": {
   "name": "python"
  }
 },
 "nbformat": 4,
 "nbformat_minor": 2
}
